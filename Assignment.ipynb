{
 "cells": [
  {
   "cell_type": "code",
   "execution_count": 713,
   "metadata": {},
   "outputs": [],
   "source": [
    "import autograd.numpy as np\n",
    "from autograd import grad\n",
    "import pandas as pd\n",
    "import matplotlib.pyplot as plt\n",
    "import re\n",
    "import os\n",
    "import glob\n",
    "from PIL import Image"
   ]
  },
  {
   "cell_type": "code",
   "execution_count": 714,
   "metadata": {},
   "outputs": [],
   "source": [
    "# def easy(x):\n",
    "#     y = x**2\n",
    "#     return y\n"
   ]
  },
  {
   "cell_type": "code",
   "execution_count": 715,
   "metadata": {},
   "outputs": [],
   "source": [
    "# # Create a function to compute the gradient\n",
    "# grad_tanh = grad(easy)"
   ]
  },
  {
   "cell_type": "code",
   "execution_count": 716,
   "metadata": {},
   "outputs": [],
   "source": [
    "# # Evaluate the gradient at x = 1.0\n",
    "# print(grad_tanh(1.0))"
   ]
  },
  {
   "cell_type": "code",
   "execution_count": 717,
   "metadata": {},
   "outputs": [],
   "source": [
    "# def tanh(x):\n",
    "#     y = np.exp(-x)\n",
    "#     return (1.0 - y) / (1.0 + y)"
   ]
  },
  {
   "cell_type": "code",
   "execution_count": 718,
   "metadata": {},
   "outputs": [],
   "source": [
    "# def fun(x):\n",
    "#     currterm = x\n",
    "#     ans = currterm\n",
    "#     for i in range(1000):\n",
    "#         print(i, end=' ')\n",
    "#         currterm = - currterm * x ** 2 / ((2 * i + 3) * (2 * i + 2))\n",
    "#         ans = ans + currterm\n",
    "#         if np.abs(currterm) < 0.2:\n",
    "#             break\n",
    "#     return ans\n",
    "\n",
    "# d_fun = grad(fun)\n",
    "# dd_fun = grad(d_fun) # Second-order gradient\n",
    "\n",
    "# print(d_fun(10.0))"
   ]
  },
  {
   "cell_type": "code",
   "execution_count": 719,
   "metadata": {},
   "outputs": [],
   "source": [
    "# # a simple multi-input function defined in python \n",
    "# def g(w_1,w_2):\n",
    "#     return np.tanh(w_1*w_2)"
   ]
  },
  {
   "cell_type": "code",
   "execution_count": 720,
   "metadata": {},
   "outputs": [],
   "source": [
    "# # compute the gradient of our input function\n",
    "# dgdw1 = grad(g,0)\n",
    "# dgdw2 = grad(g,1)"
   ]
  },
  {
   "cell_type": "code",
   "execution_count": 721,
   "metadata": {},
   "outputs": [],
   "source": [
    "# construct all partial derivative functions at once\n",
    "# nabla_g = grad(g,(0,1))"
   ]
  },
  {
   "cell_type": "code",
   "execution_count": 722,
   "metadata": {},
   "outputs": [],
   "source": [
    "\n",
    "# # Define the data points\n",
    "# x = [1, 9, 0, 7, 10, 4, 11]\n",
    "# y1 = [5, 21, 3, 17, 23, 11, 25]\n",
    "# y2 = [6, 22, 4, 18, 24, 12, 26]\n",
    "\n",
    "# # Plot the data points for y1\n",
    "# plt.plot(x, y1, marker='o', linestyle='-', color='b', label='Line 1')\n",
    "\n",
    "# # Plot the data points for y2\n",
    "# plt.plot(x, y2, marker='o', linestyle='-', color='r', label='Line 2')\n",
    "\n",
    "# # Add labels and title\n",
    "# plt.xlabel('x')\n",
    "# plt.ylabel('y')\n",
    "# plt.title('Line Graph')\n",
    "# plt.legend()\n",
    "\n",
    "# # Show plot\n",
    "# plt.grid(True)\n",
    "# plt.show()"
   ]
  },
  {
   "cell_type": "code",
   "execution_count": 723,
   "metadata": {},
   "outputs": [],
   "source": [
    "train = pd.read_excel('Datas.xlsx')\n",
    "x = train['Size']\n",
    "x = np.array(x)\n",
    "y = train['Price']\n",
    "y= np.array(y)"
   ]
  },
  {
   "cell_type": "code",
   "execution_count": 724,
   "metadata": {},
   "outputs": [],
   "source": [
    "def J(w,b,xi,yi):\n",
    "    return np.square(yi - (w * xi) - b )"
   ]
  },
  {
   "cell_type": "code",
   "execution_count": 725,
   "metadata": {},
   "outputs": [],
   "source": [
    "def propagate(w,b):\n",
    "    dw = 0\n",
    "    db = 0\n",
    "    loss = 0 \n",
    "    for xi, yi in zip(x, y):\n",
    "        dJdw = grad(J,0)\n",
    "        dJdb = grad(J,1)\n",
    "        dw += dJdw(w,b,xi,yi)\n",
    "        db += dJdb(w,b,xi,yi)\n",
    "        loss += J(w,b,xi,yi) \n",
    "    # print(dw)\n",
    "    # print(db)\n",
    "    # print(loss)\n",
    "    return dw, db, loss"
   ]
  },
  {
   "cell_type": "code",
   "execution_count": 726,
   "metadata": {},
   "outputs": [],
   "source": [
    "def gif_generator():\n",
    "    fp_in = \"E:\\\\4th year, 1st semester\\\\ML lab\\\\*.png\"\n",
    "    fp_out = \"curve_fitting_sig.gif\"\n",
    "\n",
    "    natsort = lambda s: [int(t) if t.isdigit() else t.lower() for t in re.split('(\\d+)', s)]\n",
    "\n",
    "    # # https://pillow.readthedocs.io/en/stable/handbook/image-file-formats.html#gif\n",
    "    img, *imgs = [Image.open(f) for f in sorted(glob.glob(fp_in), key=natsort)]\n",
    "    img.save(fp=fp_out, format='GIF', append_images=imgs,\n",
    "            save_all=True, duration=200, loop=0)\n",
    "    return"
   ]
  },
  {
   "cell_type": "code",
   "execution_count": 727,
   "metadata": {},
   "outputs": [
    {
     "data": {
      "image/png": "[encoded data removed]",
      "text/plain": [
       "<Figure size 640x480 with 1 Axes>"
      ]
     },
     "metadata": {},
     "output_type": "display_data"
    }
   ],
   "source": [
    "w = 0.047\n",
    "b = 0.047\n",
    "lr = 0.001\n",
    "iteation = 1000\n",
    "\n",
    "output = pd.read_excel('Output.xlsx')\n",
    "loss_values = []\n",
    "\n",
    "plt.scatter(x, y, color='r', label='Main Line')\n",
    "aux_line, = plt.plot([], [], marker='o', linestyle='-', color='b', label='Line')\n",
    "for p in range(iteation):\n",
    "    dw ,db, loss = propagate(w,b)\n",
    "    w = w - (lr * dw)\n",
    "    b = b - (lr * db)\n",
    "    loss_values.append(loss)\n",
    "    # print(w)\n",
    "    # print(b)\n",
    "   \n",
    "    if(p % 100 == 0):\n",
    "        y2 = w * x + b\n",
    "        aux_line.set_data(x, y2)\n",
    "        plt.savefig(f'{p}.png',dpi=300)\n",
    "\n",
    "output['Loss'] = loss_values\n",
    "output.to_excel('Output.xlsx', index=False)\n",
    "\n",
    "gif_generator()"
   ]
  }
 ],
 "metadata": {
  "kernelspec": {
   "display_name": "example",
   "language": "python",
   "name": "python3"
  },
  "language_info": {
   "codemirror_mode": {
    "name": "ipython",
    "version": 3
   },
   "file_extension": ".py",
   "mimetype": "text/x-python",
   "name": "python",
   "nbconvert_exporter": "python",
   "pygments_lexer": "ipython3",
   "version": "3.11.7"
  }
 },
 "nbformat": 4,
 "nbformat_minor": 2
}
