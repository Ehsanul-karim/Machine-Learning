{
 "cells": [
  {
   "cell_type": "code",
   "execution_count": 94,
   "metadata": {},
   "outputs": [],
   "source": [
    "import autograd.numpy as np\n",
    "from autograd import grad\n",
    "import matplotlib.pyplot as plt\n",
    "import math\n",
    "from IPython import display\n",
    "import pandas as pd\n",
    "import copy\n"
   ]
  },
  {
   "cell_type": "code",
   "execution_count": 95,
   "metadata": {},
   "outputs": [],
   "source": [
    "def initialize_with_zeros():\n",
    "    w  = 0\n",
    "    b = 0\n",
    "    return w, b"
   ]
  },
  {
   "cell_type": "code",
   "execution_count": 96,
   "metadata": {},
   "outputs": [],
   "source": [
    "# GRADED FUNCTION: propagate\n",
    "\n",
    "def propagate(w, b, X, Y):\n",
    "    # print(\"w\",w)\n",
    "    # print(\"b\",b)\n",
    "    # print(\"X\",X)\n",
    "    # print(\"Y\",Y)\n",
    "\n",
    "    # m = X.shape[0]\n",
    "\n",
    "    A = np.unique((w * X + b),axis = 0)\n",
    "\n",
    "\n",
    "    # print(\"A\",A)\n",
    "\n",
    "    cost = np.sum( (A - Y)**2 )\n",
    "    # cost *= cost\n",
    "\n",
    "    dw = -2 * np.sum(np.dot(X.T ,(A - Y)))\n",
    "    db = -2 * np.sum(Y - A)\n",
    "\n",
    "\n",
    "    # print(\"dw\",dw)\n",
    "    # print(\"db\",db)\n",
    "\n",
    "    grads = {\"dw\": dw,\n",
    "             \"db\": db}\n",
    "    \n",
    "    return grads, cost"
   ]
  },
  {
   "cell_type": "code",
   "execution_count": 97,
   "metadata": {},
   "outputs": [],
   "source": [
    "# GRADED FUNCTION: optimize\n",
    "\n",
    "def optimize(w, b, X, Y, num_iterations=100, learning_rate=0.009, print_cost=False):\n",
    "    \n",
    "    w = copy.deepcopy(w)\n",
    "    b = copy.deepcopy(b)\n",
    "    \n",
    "    costs = []\n",
    "    \n",
    "    for i in range(num_iterations):\n",
    "        # print(i)\n",
    "        grads, cost = propagate(w,b,X,Y)\n",
    "        # print(\"Cost\",cost)\n",
    "\n",
    "        \n",
    "        dw = grads[\"dw\"]\n",
    "        db = grads[\"db\"]\n",
    "        \n",
    "        w = w - learning_rate * dw\n",
    "        b = b - learning_rate * db\n",
    "\n",
    "        A = np.unique((w * X + b),axis = 0)\n",
    "        \n",
    "        if i % 100 == 0:\n",
    "            costs.append(cost)\n",
    "            print(costs)\n",
    "        \n",
    "            if print_cost:\n",
    "                plt.scatter(X,Y)\n",
    "                plt.plot(X,A)\n",
    "    \n",
    "    params = {\"w\": w,\n",
    "              \"b\": b}\n",
    "    \n",
    "    grads = {\"dw\": dw,\n",
    "             \"db\": db}\n",
    "    \n",
    "    return "
   ]
  },
  {
   "cell_type": "code",
   "execution_count": 98,
   "metadata": {},
   "outputs": [],
   "source": [
    "def plot_it(f1,f2):\n",
    "    f11 = f1.copy()\n",
    "    f22 = f2.copy()\n",
    "    f11 = f11.flatten()\n",
    "    f22 = f22.flatten()\n",
    "    plt.plot(f11, f22)"
   ]
  },
  {
   "cell_type": "code",
   "execution_count": 99,
   "metadata": {},
   "outputs": [],
   "source": [
    "# GRADED FUNCTION: model\n",
    "\n",
    "def model(X_train, Y_train, num_iterations=100, learning_rate=0.1, print_cost=False):\n",
    "    w , b = initialize_with_zeros()\n",
    "    # print(w)\n",
    "    # print(X_train)\n",
    "    # print(b)\n",
    "    # print(Y_train)\n",
    "    # A = w * X_train + b\n",
    "    # print(A)\n",
    "    # print(Y_train - A)\n",
    "\n",
    "    \n",
    "    # temp = (Y_train - A) * X_train\n",
    "    # print(temp)\n",
    "    \n",
    "\n",
    "    \n",
    "    # plt.scatter(X_train,Y_train)\n",
    "    # plt.plot(X_train,A)\n",
    "\n",
    "    # dw = -2 * np.sum(temp)\n",
    "    # db = -2 * np.sum(Y_train - A)\n",
    "\n",
    "    # w = w - learning_rate * dw\n",
    "    # b = b - learning_rate * db\n",
    "\n",
    "    # print(w)\n",
    "    # print(b)\n",
    "    \n",
    "    # A2 = w * X_train + b\n",
    "    # plt.plot(X_train,A2)\n",
    "\n",
    "\n",
    "\n",
    "    optimize(w,b,X_train,Y_train,num_iterations,learning_rate,print_cost)\n",
    "    \n",
    "    return\n"
   ]
  },
  {
   "cell_type": "code",
   "execution_count": 122,
   "metadata": {},
   "outputs": [],
   "source": [
    "\n",
    "def model_2(X_train, Y_train, num_iterations=15, learning_rate=0.1, print_cost=False):\n",
    "    # Initialize parameters\n",
    "    w, b = initialize_with_zeros()\n",
    "    \n",
    "    # Calculate predictions\n",
    "    A = w * X_train + b\n",
    "    \n",
    "    # Plot initial predictions\n",
    "    plt.figure(figsize=(8, 6))\n",
    "    plt.plot(X_train, A, color='red', label='Initial prediction')\n",
    "    \n",
    "    for i in range(num_iterations):\n",
    "        # Calculate derivatives\n",
    "        temp = (Y_train - A) * X_train\n",
    "        dw = -2 * np.sum(temp)\n",
    "        db = -2 * np.sum(Y_train - A)\n",
    "        \n",
    "        # Update parameters\n",
    "        w = w - learning_rate * dw\n",
    "        b = b - learning_rate * db\n",
    "        \n",
    "        # Update predictions\n",
    "        A = w * X_train + b\n",
    "        \n",
    "        # Plot updated predictions every 20 iterations\n",
    "        if i % 20 == 0:\n",
    "            print('ds')\n",
    "            plt.plot(X_train, A, label=f'Iteration {i}')\n",
    "\n",
    "    \n",
    "    # # Plot final predictions\n",
    "    plt.plot(X_train, A, color='green', linestyle='--', label='Final prediction')\n",
    "    \n",
    "    # Add labels and title\n",
    "    plt.scatter(X_train, Y_train, label='Training data')\n",
    "    plt.xlabel('Size')\n",
    "    plt.ylabel('Price')\n",
    "    plt.title('Size vs. Price Prediction')\n",
    "    \n",
    "    plt.legend()\n",
    "    # Show plot\n",
    "    plt.show()"
   ]
  },
  {
   "cell_type": "code",
   "execution_count": 123,
   "metadata": {},
   "outputs": [
    {
     "name": "stdout",
     "output_type": "stream",
     "text": [
      "[10 15 20 25 30 35 40 45 50 55]\n",
      "[ 400  750 1100 1280 1500 1600 1950 2120 2380 2800]\n",
      "ds\n",
      "[10 15 20 25 30 35 40 45 50 55]\n",
      "[ 400  750 1100 1280 1500 1600 1950 2120 2380 2800]\n",
      "[10 15 20 25 30 35 40 45 50 55]\n",
      "[ 400  750 1100 1280 1500 1600 1950 2120 2380 2800]\n",
      "[10 15 20 25 30 35 40 45 50 55]\n",
      "[ 400  750 1100 1280 1500 1600 1950 2120 2380 2800]\n",
      "[10 15 20 25 30 35 40 45 50 55]\n",
      "[ 400  750 1100 1280 1500 1600 1950 2120 2380 2800]\n",
      "[10 15 20 25 30 35 40 45 50 55]\n",
      "[ 400  750 1100 1280 1500 1600 1950 2120 2380 2800]\n",
      "[10 15 20 25 30 35 40 45 50 55]\n",
      "[ 400  750 1100 1280 1500 1600 1950 2120 2380 2800]\n",
      "[10 15 20 25 30 35 40 45 50 55]\n",
      "[ 400  750 1100 1280 1500 1600 1950 2120 2380 2800]\n",
      "[10 15 20 25 30 35 40 45 50 55]\n",
      "[ 400  750 1100 1280 1500 1600 1950 2120 2380 2800]\n",
      "[10 15 20 25 30 35 40 45 50 55]\n",
      "[ 400  750 1100 1280 1500 1600 1950 2120 2380 2800]\n",
      "[10 15 20 25 30 35 40 45 50 55]\n",
      "[ 400  750 1100 1280 1500 1600 1950 2120 2380 2800]\n",
      "[10 15 20 25 30 35 40 45 50 55]\n",
      "[ 400  750 1100 1280 1500 1600 1950 2120 2380 2800]\n",
      "[10 15 20 25 30 35 40 45 50 55]\n",
      "[ 400  750 1100 1280 1500 1600 1950 2120 2380 2800]\n",
      "[10 15 20 25 30 35 40 45 50 55]\n",
      "[ 400  750 1100 1280 1500 1600 1950 2120 2380 2800]\n",
      "[10 15 20 25 30 35 40 45 50 55]\n",
      "[ 400  750 1100 1280 1500 1600 1950 2120 2380 2800]\n"
     ]
    },
    {
     "data": {
      "image/png": "[encoded data removed]",
      "text/plain": [
       "<Figure size 800x600 with 1 Axes>"
      ]
     },
     "metadata": {},
     "output_type": "display_data"
    }
   ],
   "source": [
    "train = pd.read_excel('Datas.xlsx')\n",
    "x = train['Size']\n",
    "x = np.array(x)\n",
    "# x =  x.reshape(x.shape[0], -1).T\n",
    "y = train['Price']\n",
    "y= np.array(y)\n",
    "# y =  y.reshape(y.shape[0], -1).T\n",
    "model_2(X_train = x, Y_train = y, print_cost =True)"
   ]
  },
  {
   "cell_type": "code",
   "execution_count": 1,
   "metadata": {},
   "outputs": [
    {
     "name": "stdout",
     "output_type": "stream",
     "text": [
      "1 [2, 3]\n"
     ]
    }
   ],
   "source": [
    "a,*b = [1,2,3]\n",
    "\n",
    "print(a,b)"
   ]
  },
  {
   "cell_type": "code",
   "execution_count": 4,
   "metadata": {},
   "outputs": [
    {
     "data": {
      "text/plain": [
       "['', 2, '.png']"
      ]
     },
     "execution_count": 4,
     "metadata": {},
     "output_type": "execute_result"
    }
   ],
   "source": [
    "import re\n",
    "\n",
    "natsort = lambda s: [int(t) if t.isdigit() else t.lower() for t in re.split('(\\d+)', s)]\n",
    "\n",
    "r=natsort(\"10.png\")\n",
    "r\n",
    "\n",
    "r=natsort(\"2.png\")\n",
    "r\n"
   ]
  },
  {
   "cell_type": "code",
   "execution_count": null,
   "metadata": {},
   "outputs": [],
   "source": []
  }
 ],
 "metadata": {
  "kernelspec": {
   "display_name": "example",
   "language": "python",
   "name": "python3"
  },
  "language_info": {
   "codemirror_mode": {
    "name": "ipython",
    "version": 3
   },
   "file_extension": ".py",
   "mimetype": "text/x-python",
   "name": "python",
   "nbconvert_exporter": "python",
   "pygments_lexer": "ipython3",
   "version": "3.11.7"
  }
 },
 "nbformat": 4,
 "nbformat_minor": 2
}
